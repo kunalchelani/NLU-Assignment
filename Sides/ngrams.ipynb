{
 "cells": [
  {
   "cell_type": "code",
   "execution_count": 1,
   "metadata": {},
   "outputs": [
    {
     "ename": "UnicodeEncodeError",
     "evalue": "'ascii' codec can't encode character u'\\xe8' in position 109: ordinal not in range(128)",
     "output_type": "error",
     "traceback": [
      "\u001b[0;31m---------------------------------------------------------------------------\u001b[0m",
      "\u001b[0;31mUnicodeEncodeError\u001b[0m                        Traceback (most recent call last)",
      "\u001b[0;32m<ipython-input-1-8714932d97e9>\u001b[0m in \u001b[0;36m<module>\u001b[0;34m()\u001b[0m\n\u001b[1;32m     72\u001b[0m \u001b[0mgutenberg_path\u001b[0m \u001b[0;34m=\u001b[0m \u001b[0;34m'/home/kunal/Downloads/IISc-Acads/sem2/NLU/Assignment-1/Data/gutenberg/'\u001b[0m\u001b[0;34m\u001b[0m\u001b[0m\n\u001b[1;32m     73\u001b[0m \u001b[0;34m\u001b[0m\u001b[0m\n\u001b[0;32m---> 74\u001b[0;31m \u001b[0;34m(\u001b[0m\u001b[0mtrain_data\u001b[0m\u001b[0;34m,\u001b[0m \u001b[0mdev_data\u001b[0m\u001b[0;34m,\u001b[0m \u001b[0mtest_data\u001b[0m\u001b[0;34m,\u001b[0m \u001b[0mfreq\u001b[0m\u001b[0;34m)\u001b[0m \u001b[0;34m=\u001b[0m  \u001b[0mprep_gutenberg_data\u001b[0m\u001b[0;34m(\u001b[0m\u001b[0mgutenberg_path\u001b[0m\u001b[0;34m,\u001b[0m \u001b[0;36m0.70\u001b[0m\u001b[0;34m,\u001b[0m \u001b[0;36m0.15\u001b[0m\u001b[0;34m)\u001b[0m\u001b[0;34m\u001b[0m\u001b[0m\n\u001b[0m\u001b[1;32m     75\u001b[0m \u001b[0;34m\u001b[0m\u001b[0m\n",
      "\u001b[0;32m<ipython-input-1-8714932d97e9>\u001b[0m in \u001b[0;36mprep_gutenberg_data\u001b[0;34m(directory, train_split, dev_split)\u001b[0m\n\u001b[1;32m     51\u001b[0m                         \u001b[0msentence\u001b[0m \u001b[0;34m=\u001b[0m \u001b[0msentence\u001b[0m\u001b[0;34m[\u001b[0m\u001b[0;34m:\u001b[0m\u001b[0;34m-\u001b[0m\u001b[0;36m1\u001b[0m\u001b[0;34m]\u001b[0m\u001b[0;34m\u001b[0m\u001b[0m\n\u001b[1;32m     52\u001b[0m \u001b[0;34m\u001b[0m\u001b[0m\n\u001b[0;32m---> 53\u001b[0;31m                 \u001b[0msentence\u001b[0m \u001b[0;34m=\u001b[0m \u001b[0;34m\"~ {} ~~ \"\u001b[0m\u001b[0;34m.\u001b[0m\u001b[0mformat\u001b[0m\u001b[0;34m(\u001b[0m\u001b[0msentence\u001b[0m\u001b[0;34m)\u001b[0m\u001b[0;34m\u001b[0m\u001b[0m\n\u001b[0m\u001b[1;32m     54\u001b[0m                 \u001b[0msentences\u001b[0m\u001b[0;34m.\u001b[0m\u001b[0mappend\u001b[0m\u001b[0;34m(\u001b[0m\u001b[0msentence\u001b[0m\u001b[0;34m)\u001b[0m\u001b[0;34m\u001b[0m\u001b[0m\n\u001b[1;32m     55\u001b[0m \u001b[0;34m\u001b[0m\u001b[0m\n",
      "\u001b[0;31mUnicodeEncodeError\u001b[0m: 'ascii' codec can't encode character u'\\xe8' in position 109: ordinal not in range(128)"
     ]
    }
   ],
   "source": [
    "import sys\n",
    "import numpy as np\n",
    "import os\n",
    "import io\n",
    "import re\n",
    "import nltk\n",
    "import random\n",
    "import math\n",
    "from nltk.tokenize import word_tokenize\n",
    "import sys\n",
    "'''\n",
    "## Brown Data\n",
    "brown_path = '/home/kunal/Downloads/IISc-Acads/sem2/NLU/Assignment-1/Data/brown/'\n",
    "vocab = dict()\n",
    "for filename in os.listdir(brown_path):\n",
    "    with open(brown_path + filename, 'r') as f:\n",
    "        for line in f:\n",
    "            words = line.split(\" \")\n",
    "            for word in words:\n",
    "                word = word.split(\"/\")[0]\n",
    "                if word not in vocab:\n",
    "                    vocab[word] = 0\n",
    "                vocab[word] += 1\n",
    "\n",
    "print len(vocab)\n",
    "'''\n",
    "\n",
    "\n",
    "def get_freq_count(data):\n",
    "    freq = dict()\n",
    "    for sentence in data:\n",
    "        words  = word_tokenize(sentence)\n",
    "        for word in words:\n",
    "            if word not in freq:\n",
    "                freq[word] = 0\n",
    "            freq[word] += 1\n",
    "    return freq\n",
    "    \n",
    "def prep_gutenberg_data(directory, train_split, dev_split):\n",
    "    sentences = []\n",
    "    for filename in os.listdir(directory):\n",
    "        with io.open(directory + filename, 'r', encoding = 'latin-1') as f:\n",
    "            file_text = f.read()\n",
    "            file_text = re.split('  |\\n\\n', file_text)\n",
    "            \n",
    "            for sentence in file_text:\n",
    "                sentence = sentence.replace('\\n', ' ')\n",
    "                sentence = sentence.replace('_', '')\n",
    "                if len(sentence) > 0:\n",
    "                    if sentence[-1] == '.':\n",
    "                        sentence = sentence[:-1]\n",
    "                        \n",
    "                sentence = \"~ {} ~~ \".format(sentence)\n",
    "                sentences.append(sentence)\n",
    "                \n",
    "    random.shuffle(sentences)\n",
    "    spl1 = int(math.floor(train_split*len(sentences)))\n",
    "    spl2 = int(math.floor((train_split + dev_split)*len(sentences)))\n",
    "    print spl1\n",
    "    print spl2\n",
    "                \n",
    "    train_data =  sentences[0:spl1]\n",
    "    dev_data =  sentences[spl1:spl2]\n",
    "    test_data = sentences[spl2:]           \n",
    "    \n",
    "    freq = get_freq_count(train_data)\n",
    "    \n",
    "    return (train_data, dev_data, test_data, freq)\n",
    "            \n",
    "# Script Starts Here\n",
    "\n",
    "gutenberg_path = '/home/kunal/Downloads/IISc-Acads/sem2/NLU/Assignment-1/Data/gutenberg/'\n",
    "\n",
    "(train_data, dev_data, test_data, freq) =  prep_gutenberg_data(gutenberg_path, 0.70, 0.15)\n",
    "\n"
   ]
  },
  {
   "cell_type": "code",
   "execution_count": null,
   "metadata": {
    "collapsed": true
   },
   "outputs": [],
   "source": [
    "class N_gram():\n",
    "    \n",
    "    def __init__(self, n, freq):\n",
    "        self.n = n\n",
    "        self.freq = freq\n",
    "        pass\n",
    "    \n",
    "    def update_ngram_prob(self, train_data, prob):\n",
    "        for i in range(0, len(train_data) - n + 1):\n",
    "            tokens = word_tokenize(train_data)\n",
    "            ng = ' '.join(tokens[i:i+n])\n",
    "            if ng not in prob:\n",
    "                prob[ng] = 0\n",
    "            prob[ng] += 1\n",
    "        \n",
    "        for element in prob:\n",
    "            prob[element] = (prob[element] + 1.0)/(self.freq[element.split(' ')[0]]) \n",
    "        self.prob = prob\n",
    "            \n",
    "    def perplexity(self, test_data):\n",
    "        prob = self.prob\n",
    "        test_words = words_tokenize(test_data)\n",
    "        for i in range(0, len(test_data) - n + 1):\n",
    "            ng_test = ' '.join(sentence[i:i+n])\n",
    "            if ng not in prob:\n",
    "                test_prob[ng] = math.log(1.0/count\n",
    "            test_prob[]"
   ]
  },
  {
   "cell_type": "code",
   "execution_count": 6,
   "metadata": {
    "collapsed": true
   },
   "outputs": [],
   "source": [
    "ng = [\"abc\", \"def\"]\n",
    "ng_str = ' '.join(ng)\n",
    "print ng_str"
   ]
  },
  {
   "cell_type": "code",
   "execution_count": null,
   "metadata": {
    "collapsed": true
   },
   "outputs": [],
   "source": [
    "ngram_toy = N_gram(2)\n",
    "freq_toy = dict()\n",
    "prob_toy = dict()\n",
    "\n",
    "sentence_toy =  \"~ Her mother had died too long ago for her to have more than an \\\n",
    "indistinct remembrance of her caresses; and her place had been supplied by an excellent\\\n",
    "woman as governess, who had fallen little short of a mother in affection ~~ \\\n",
    "~ Sixteen years had Miss Taylor been in Mr. Woodhouse's family, less as a governess\\\n",
    "than a friend, very fond of both daughters, but particularly of Emma ~~ \\\n",
    "~ Between them it was more the intimacy of sisters ~~ \"\n",
    "print sentence_toy\n",
    "print \"\\n\"\n",
    "words_toy  = word_tokenize(sentence_toy)\n",
    "for word in words_toy:\n",
    "    if word not in  freq_toy:\n",
    "        freq_toy[word] = 0\n",
    "    freq_toy[word] += 1\n",
    "\n",
    "ngram_toy.update(words_toy, prob_toy)\n",
    "\n",
    "print freq_toy\n",
    "print prob_toy"
   ]
  },
  {
   "cell_type": "code",
   "execution_count": null,
   "metadata": {
    "collapsed": true
   },
   "outputs": [],
   "source": []
  },
  {
   "cell_type": "code",
   "execution_count": null,
   "metadata": {
    "collapsed": true
   },
   "outputs": [],
   "source": [
    "a =  dict()\n",
    "a[1] = 1\n",
    "a[2] = 45\n",
    "sum(a.values())"
   ]
  },
  {
   "cell_type": "code",
   "execution_count": 4,
   "metadata": {
    "collapsed": true
   },
   "outputs": [],
   "source": [
    "b = \"He ahad a dog.\"\n",
    "b = b[:-1]\n",
    "print b"
   ]
  },
  {
   "cell_type": "code",
   "execution_count": 3,
   "metadata": {},
   "outputs": [
    {
     "ename": "NameError",
     "evalue": "name 'a' is not defined",
     "output_type": "error",
     "traceback": [
      "\u001b[0;31m---------------------------------------------------------------------------\u001b[0m",
      "\u001b[0;31mNameError\u001b[0m                                 Traceback (most recent call last)",
      "\u001b[0;32m<ipython-input-3-552275e67070>\u001b[0m in \u001b[0;36m<module>\u001b[0;34m()\u001b[0m\n\u001b[1;32m      5\u001b[0m \u001b[0;32mdel\u001b[0m \u001b[0ma\u001b[0m\u001b[0;34m\u001b[0m\u001b[0m\n\u001b[1;32m      6\u001b[0m \u001b[0;32mprint\u001b[0m \u001b[0mb\u001b[0m\u001b[0;34m[\u001b[0m\u001b[0;36m0\u001b[0m\u001b[0;34m]\u001b[0m\u001b[0;34m\u001b[0m\u001b[0m\n\u001b[0;32m----> 7\u001b[0;31m \u001b[0;32mprint\u001b[0m \u001b[0ma\u001b[0m\u001b[0;34m\u001b[0m\u001b[0m\n\u001b[0m",
      "\u001b[0;31mNameError\u001b[0m: name 'a' is not defined"
     ]
    }
   ],
   "source": [
    "a = range(1,10)\n",
    "print a\n",
    "b = a[1:4]\n",
    "print b\n",
    "del a\n",
    "print b[0]\n",
    "print a"
   ]
  },
  {
   "cell_type": "code",
   "execution_count": null,
   "metadata": {
    "collapsed": true
   },
   "outputs": [],
   "source": [
    "a = [\"The\", \"queen\", \"of\", \".\"]\n",
    "c = \" \".join(a)\n",
    "print c"
   ]
  },
  {
   "cell_type": "code",
   "execution_count": 5,
   "metadata": {},
   "outputs": [
    {
     "ename": "AttributeError",
     "evalue": "'module' object has no attribute 'take'",
     "output_type": "error",
     "traceback": [
      "\u001b[0;31m---------------------------------------------------------------------------\u001b[0m",
      "\u001b[0;31mAttributeError\u001b[0m                            Traceback (most recent call last)",
      "\u001b[0;32m<ipython-input-5-0dd599992403>\u001b[0m in \u001b[0;36m<module>\u001b[0;34m()\u001b[0m\n\u001b[1;32m      2\u001b[0m \u001b[0md\u001b[0m \u001b[0;34m=\u001b[0m \u001b[0mdict\u001b[0m\u001b[0;34m(\u001b[0m\u001b[0;34m)\u001b[0m\u001b[0;34m\u001b[0m\u001b[0m\n\u001b[1;32m      3\u001b[0m \u001b[0md\u001b[0m\u001b[0;34m[\u001b[0m\u001b[0;36m4\u001b[0m\u001b[0;34m]\u001b[0m \u001b[0;34m=\u001b[0m \u001b[0;34m\"abc\"\u001b[0m\u001b[0;34m\u001b[0m\u001b[0m\n\u001b[0;32m----> 4\u001b[0;31m \u001b[0;32mprint\u001b[0m \u001b[0mitertools\u001b[0m\u001b[0;34m.\u001b[0m\u001b[0mtake\u001b[0m\u001b[0;34m(\u001b[0m\u001b[0;36m1\u001b[0m\u001b[0;34m,\u001b[0m \u001b[0md\u001b[0m\u001b[0;34m.\u001b[0m\u001b[0miteritems\u001b[0m\u001b[0;34m(\u001b[0m\u001b[0;34m)\u001b[0m\u001b[0;34m)\u001b[0m\u001b[0;34m\u001b[0m\u001b[0m\n\u001b[0m",
      "\u001b[0;31mAttributeError\u001b[0m: 'module' object has no attribute 'take'"
     ]
    }
   ],
   "source": [
    "import itertools\n",
    "d = dict()\n",
    "d[4] = \"abc\"\n",
    "print take(1, d.iteritems())"
   ]
  },
  {
   "cell_type": "code",
   "execution_count": 7,
   "metadata": {},
   "outputs": [
    {
     "ename": "AttributeError",
     "evalue": "'list' object has no attribute 'indices'",
     "output_type": "error",
     "traceback": [
      "\u001b[0;31m---------------------------------------------------------------------------\u001b[0m",
      "\u001b[0;31mAttributeError\u001b[0m                            Traceback (most recent call last)",
      "\u001b[0;32m<ipython-input-7-e208e04b8c7c>\u001b[0m in \u001b[0;36m<module>\u001b[0;34m()\u001b[0m\n\u001b[1;32m      1\u001b[0m \u001b[0ma\u001b[0m \u001b[0;34m=\u001b[0m \u001b[0;34m[\u001b[0m\u001b[0;34m\"The\"\u001b[0m\u001b[0;34m,\u001b[0m \u001b[0;34m\"The\"\u001b[0m\u001b[0;34m,\u001b[0m \u001b[0;34m\"Hello\"\u001b[0m\u001b[0;34m,\u001b[0m \u001b[0;34m\"The\"\u001b[0m\u001b[0;34m]\u001b[0m\u001b[0;34m\u001b[0m\u001b[0m\n\u001b[0;32m----> 2\u001b[0;31m \u001b[0ma\u001b[0m\u001b[0;34m.\u001b[0m\u001b[0mindices\u001b[0m\u001b[0;34m(\u001b[0m\u001b[0;34m'The'\u001b[0m\u001b[0;34m)\u001b[0m\u001b[0;34m\u001b[0m\u001b[0m\n\u001b[0m",
      "\u001b[0;31mAttributeError\u001b[0m: 'list' object has no attribute 'indices'"
     ]
    }
   ],
   "source": [
    "a = [\"The\", \"The\", \"Hello\", \"The\"]\n",
    "a.index('The')"
   ]
  },
  {
   "cell_type": "code",
   "execution_count": 6,
   "metadata": {},
   "outputs": [
    {
     "name": "stdout",
     "output_type": "stream",
     "text": [
      "0.9167740345\n",
      "0.487660169601\n"
     ]
    }
   ],
   "source": [
    "import timeit\n",
    "a = [\"The\", \"long\", \"wall\", \"stands\", \"long\", \"The\", \"long\", \"wall\", \"stands\", \"long\",\"The\", \"long\", \"wall\", \"stands\", \"long\",\"The\", \"long\", \"wall\", \"stands\", \"long\",\"The\", \"long\", \"wall\", \"stands\", \"long\",\"The\", \"long\", \"wall\", \"stands\", \"long\",\"The\", \"long\", \"wall\", \"stands\", \"long\",\"The\", \"long\", \"wall\", \"stands\", \"long\" ]\n",
    "unks = [\"The\", \"wall\"]\n",
    "start_time = timeit.default_timer()\n",
    "for i in range(1,100000):\n",
    "    for unk in unks:\n",
    "                for i in range(0,len(a)):\n",
    "                    if a[i] == unk:\n",
    "                        a[i] = \"UNK\"\n",
    "elapsed = timeit.default_timer() -  start_time\n",
    "print elapsed\n",
    "\n",
    "start_time2 = timeit.default_timer()\n",
    "for i in range(1,100000):\n",
    "    for index, item in enumerate(a):\n",
    "            if(item == unk):\n",
    "                a[index] = \"UNK\"\n",
    "                \n",
    "elapsed2 = timeit.default_timer() -  start_time2\n",
    "print elapsed2"
   ]
  },
  {
   "cell_type": "code",
   "execution_count": null,
   "metadata": {
    "collapsed": true
   },
   "outputs": [],
   "source": []
  }
 ],
 "metadata": {
  "kernelspec": {
   "display_name": "Python 2",
   "language": "python",
   "name": "python2"
  },
  "language_info": {
   "codemirror_mode": {
    "name": "ipython",
    "version": 2
   },
   "file_extension": ".py",
   "mimetype": "text/x-python",
   "name": "python",
   "nbconvert_exporter": "python",
   "pygments_lexer": "ipython2",
   "version": "2.7.14"
  }
 },
 "nbformat": 4,
 "nbformat_minor": 2
}
