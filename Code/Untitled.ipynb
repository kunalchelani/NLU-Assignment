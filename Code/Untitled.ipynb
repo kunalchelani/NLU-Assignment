{
 "cells": [
  {
   "cell_type": "code",
   "execution_count": 6,
   "metadata": {},
   "outputs": [
    {
     "name": "stdout",
     "output_type": "stream",
     "text": [
      "[u'emma', u'by', u'jane', '*unknown*', '*unknown*', u']', u'volume', u'i', u'chapter']\n",
      "[u'from', u'the', '*unknown*', '*unknown*', u'.', u'long', u'i', u'was', '*unknown*']\n"
     ]
    }
   ],
   "source": [
    "import nltk\n",
    "\n",
    "gutenberg = nltk.corpus.gutenberg\n",
    "corpus = [word.lower() for word in gutenberg.words()]\n",
    "\n",
    "spl = 95*len(corpus)/100\n",
    "train = corpus[:spl]\n",
    "test = corpus[spl:]\n",
    "\n",
    "# Remove rare words from the corpus\n",
    "fdist = nltk.FreqDist(w for w in train)\n",
    "vocabulary = set(map(lambda x: x[0], filter(lambda x: x[1] >= 5, fdist.iteritems())))\n",
    "\n",
    "train = map(lambda x: x if x in vocabulary else \"*unknown*\", train)\n",
    "test = map(lambda x: x if x in vocabulary else \"*unknown*\", test)\n",
    "\n",
    "print train[1:10]\n",
    "print test[1:10]"
   ]
  },
  {
   "cell_type": "code",
   "execution_count": 3,
   "metadata": {},
   "outputs": [
    {
     "name": "stdout",
     "output_type": "stream",
     "text": [
      "Bro Bro is going mad\n"
     ]
    },
    {
     "ename": "AttributeError",
     "evalue": "'list' object has no attribute 'replace'",
     "output_type": "error",
     "traceback": [
      "\u001b[0;31m---------------------------------------------------------------------------\u001b[0m",
      "\u001b[0;31mAttributeError\u001b[0m                            Traceback (most recent call last)",
      "\u001b[0;32m<ipython-input-3-e8a66e61b893>\u001b[0m in \u001b[0;36m<module>\u001b[0;34m()\u001b[0m\n\u001b[1;32m      4\u001b[0m     \u001b[0mb\u001b[0m \u001b[0;34m=\u001b[0m \u001b[0mb\u001b[0m\u001b[0;34m.\u001b[0m\u001b[0mreplace\u001b[0m\u001b[0;34m(\u001b[0m\u001b[0munk\u001b[0m\u001b[0;34m,\u001b[0m \u001b[0;34m\"Bro\"\u001b[0m\u001b[0;34m)\u001b[0m\u001b[0;34m\u001b[0m\u001b[0m\n\u001b[1;32m      5\u001b[0m \u001b[0;32mprint\u001b[0m \u001b[0mb\u001b[0m\u001b[0;34m\u001b[0m\u001b[0m\n\u001b[0;32m----> 6\u001b[0;31m \u001b[0ma\u001b[0m\u001b[0;34m.\u001b[0m\u001b[0mreplace\u001b[0m\u001b[0;34m(\u001b[0m\u001b[0;34m\"The\"\u001b[0m\u001b[0;34m,\u001b[0m \u001b[0;34m\"SSup\"\u001b[0m\u001b[0;34m)\u001b[0m\u001b[0;34m\u001b[0m\u001b[0m\n\u001b[0m\u001b[1;32m      7\u001b[0m \u001b[0;32mprint\u001b[0m \u001b[0ma\u001b[0m\u001b[0;34m\u001b[0m\u001b[0m\n",
      "\u001b[0;31mAttributeError\u001b[0m: 'list' object has no attribute 'replace'"
     ]
    }
   ],
   "source": [
    "a  = [\"The\", \"Hello\", \"King\"]\n",
    "b = \"The King is going mad\"\n",
    "for unk in a:\n",
    "    b = b.replace(unk, \"Bro\")\n",
    "print b\n",
    "a.replace(\"The\", \"SSup\")\n",
    "print a"
   ]
  },
  {
   "cell_type": "code",
   "execution_count": 14,
   "metadata": {},
   "outputs": [],
   "source": [
    "import numpy as np\n",
    "import os\n",
    "import io\n",
    "import re\n",
    "import nltk\n",
    "import random\n",
    "import math\n",
    "import sys\n",
    "from nltk.tokenize import word_tokenize\n",
    "import prep_data\n",
    "\n",
    "class N_gram():\n",
    "    \n",
    "    def __init__(self, n, train_data, test_data):\n",
    "       \n",
    "        train_data = ''.join(train_data)\n",
    "        train_tokens = word_tokenize(train_data)\n",
    "\n",
    "        test_data = ''.join(test_data)\n",
    "        test_tokens = word_tokenize(test_data)\n",
    "\n",
    "        self.train_tokens = train_tokens\n",
    "        self.test_tokens= test_tokens\n",
    "        self.n = n\n",
    "\n",
    "        return\n",
    "    \n",
    "    def normalize_train_data(self):\n",
    "\n",
    "        train_tokens = self.train_tokens\n",
    "        freq = prep_data.get_freq_count(train_tokens)\n",
    "\n",
    "        unks = []\n",
    "        for word in freq:\n",
    "            if freq[word] < 2:\n",
    "                unks.append(word)\n",
    "        print \"Unknowns in train data :{}\".format(len(unks))\n",
    "\n",
    "        for unk in unks:\n",
    "            for i in range(0,len(train_tokens)):\n",
    "                if train_tokens[i] == unk:\n",
    "                    train_tokens[i] = \"UNK\"\n",
    "\n",
    "        self.freq = prep_data.get_freq_count(train_tokens)\n",
    "        self.train_tokens = train_tokens\n",
    "\n",
    "        # Random Printing\n",
    "        firstkpairs = {k: freq[k] for k in freq.keys()[:10]}\n",
    "        print firstkpairs\n",
    "\n",
    "\n",
    "    def update_ngram_prob(self):\n",
    "\n",
    "        train_tokens = self.train_tokens\n",
    "        n =  self.n\n",
    "\n",
    "        prob = dict()\n",
    "        for i in range(0, len(train_tokens) - n + 1):\n",
    "            ng = ' '.join(train_tokens[i:i+n])\n",
    "            if ng not in prob:\n",
    "                prob[ng] = 0\n",
    "            prob[ng] += 1\n",
    "        \n",
    "        vocab_size = sum(self.freq.values())\n",
    "        for element in prob:\n",
    "            prob[element] = (prob[element] + 1.0)/(self.freq[element.split(' ')[0]] + vocab_size)\n",
    "\n",
    "        self.prob = prob\n",
    "        self.vocab_size =  vocab_size\t\n",
    "    \n",
    "    def normalize_test_data(self):\n",
    "       \n",
    "        freq = self.freq\n",
    "        unks = []\n",
    "\n",
    "        for token in test_tokens:\n",
    "            if token not in freq:\n",
    "                unks.append(token)\n",
    "\n",
    "        for unk in unks:\n",
    "            for i in range(0,len(test_tokens)):\n",
    "                if test_tokens[i] == unk:\n",
    "                    test_tokens[i] = \"UNK\"\n",
    "\n",
    "        self.test_tokens = test_tokens \n",
    "\n",
    "\n",
    "    def calc_perplexity(self):\n",
    "        prob = self.prob\n",
    "        vocab_size = self.vocab_size\n",
    "        test_tokens = self.test_tokens\n",
    "        n  = self.n\n",
    "        freq =  self.freq\n",
    "\n",
    "        test_new_prob = dict()\n",
    "        total_log_prob = 0\n",
    " \n",
    "        for i in range(0, len(test_tokens) - n + 1):\n",
    "            ng = ' '.join(test_tokens[i:i+n])\n",
    "            print ng\n",
    "            if ng not in prob:\n",
    "                if ng not in test_new_prob:\n",
    "                    test_new_prob[ng] = math.log(1.0/(freq[ng.split(' ')[0]] + vocab_size))\n",
    "                total_log_prob += test_new_prob[ng]\n",
    "            else:\n",
    "                total_log_prob += math.log(prob[ng])\n",
    "\n",
    "        self.perplexity = (1.0/(total_log_prob))"
   ]
  },
  {
   "cell_type": "code",
   "execution_count": null,
   "metadata": {
    "collapsed": true
   },
   "outputs": [],
   "source": []
  }
 ],
 "metadata": {
  "kernelspec": {
   "display_name": "Python 2",
   "language": "python",
   "name": "python2"
  },
  "language_info": {
   "codemirror_mode": {
    "name": "ipython",
    "version": 2
   },
   "file_extension": ".py",
   "mimetype": "text/x-python",
   "name": "python",
   "nbconvert_exporter": "python",
   "pygments_lexer": "ipython2",
   "version": "2.7.14"
  }
 },
 "nbformat": 4,
 "nbformat_minor": 2
}
