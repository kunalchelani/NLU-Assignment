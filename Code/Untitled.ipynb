{
 "cells": [
  {
   "cell_type": "code",
   "execution_count": 28,
   "metadata": {},
   "outputs": [
    {
     "name": "stdout",
     "output_type": "stream",
     "text": [
      "64380\n"
     ]
    }
   ],
   "source": [
    "import sys\n",
    "import numpy as np\n",
    "import os\n",
    "\n",
    "## Brown Data\n",
    "brown_path = '/home/kunal/Downloads/IISC Acads/sem2/NLU/Assignment-1/Data/brown/'\n",
    "vocab = dict()\n",
    "for filename in os.listdir(brown_path):\n",
    "    with open(brown_path + filename, 'r') as f:\n",
    "        for line in f:\n",
    "            words = line.split(\" \")\n",
    "            for word in words:\n",
    "                word = word.split(\"/\")[0]\n",
    "                if word not in vocab:\n",
    "                    vocab[word] = 0\n",
    "                vocab[word] += 1\n",
    "\n",
    "print len(vocab)\n",
    "\n",
    "## GutenBerg Data\n",
    "gutenberg_path = '/home/kunal/Downloads/IISC Acads/sem2/NLU/Assignment-1/Data/gutenberg/'\n",
    "vocab = dict()"
   ]
  },
  {
   "cell_type": "code",
   "execution_count": null,
   "metadata": {
    "collapsed": true
   },
   "outputs": [],
   "source": []
  },
  {
   "cell_type": "code",
   "execution_count": null,
   "metadata": {
    "collapsed": true
   },
   "outputs": [],
   "source": []
  }
 ],
 "metadata": {
  "kernelspec": {
   "display_name": "Python 2",
   "language": "python",
   "name": "python2"
  },
  "language_info": {
   "codemirror_mode": {
    "name": "ipython",
    "version": 2
   },
   "file_extension": ".py",
   "mimetype": "text/x-python",
   "name": "python",
   "nbconvert_exporter": "python",
   "pygments_lexer": "ipython2",
   "version": "2.7.14"
  }
 },
 "nbformat": 4,
 "nbformat_minor": 2
}
